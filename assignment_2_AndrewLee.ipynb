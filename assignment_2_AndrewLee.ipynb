{
 "cells": [
  {
   "cell_type": "code",
   "execution_count": 1,
   "metadata": {},
   "outputs": [],
   "source": [
    "import math"
   ]
  },
  {
   "cell_type": "markdown",
   "metadata": {},
   "source": [
    "# Part 1\n",
    "## Task 1"
   ]
  },
  {
   "cell_type": "code",
   "execution_count": 2,
   "metadata": {},
   "outputs": [],
   "source": [
    "def div3(n):\n",
    "    \"\"\"tests whether a number is divisble by 3\"\"\"\n",
    "    test=n/3\n",
    "    testint=float(int(test))\n",
    "    print(f\"test: {test}\")\n",
    "    print(f\"testint: {testint}\")\n",
    "    if test==testint:\n",
    "        print(f\"{n} is divisible by 3\")\n",
    "    else:\n",
    "        print(f\"{n} is not divisible by 3\")"
   ]
  },
  {
   "cell_type": "code",
   "execution_count": 3,
   "metadata": {},
   "outputs": [
    {
     "name": "stdout",
     "output_type": "stream",
     "text": [
      "test: 2.0\n",
      "testint: 2.0\n",
      "6 is divisible by 3\n"
     ]
    }
   ],
   "source": [
    "div3(6)"
   ]
  },
  {
   "cell_type": "markdown",
   "metadata": {},
   "source": [
    "## Task 2"
   ]
  },
  {
   "cell_type": "code",
   "execution_count": 4,
   "metadata": {},
   "outputs": [],
   "source": [
    "def fruit_test(f):\n",
    "    \"\"\"tests whether a certain fruit is acceptable\"\"\"\n",
    "    fruits=[\"apple\", \"orange\", \"pear\", \"kiwi\",\"strawberry\"]\n",
    "    if f in fruits:\n",
    "        print(f\"{f} is an acceptable fruit\")\n",
    "    else:\n",
    "        print(f\"{f} is not an acceptable fruit\")\n"
   ]
  },
  {
   "cell_type": "code",
   "execution_count": 5,
   "metadata": {},
   "outputs": [
    {
     "name": "stdout",
     "output_type": "stream",
     "text": [
      "apple is an acceptable fruit\n",
      "banana is not an acceptable fruit\n"
     ]
    }
   ],
   "source": [
    "fruit_test(\"apple\")\n",
    "fruit_test(\"banana\")"
   ]
  },
  {
   "cell_type": "markdown",
   "metadata": {},
   "source": [
    "## Task 3"
   ]
  },
  {
   "cell_type": "code",
   "execution_count": 6,
   "metadata": {},
   "outputs": [],
   "source": [
    "from math import sin, cos, atan2 \n",
    "def haversine_function(latlon1: list, latlon2: list):\n",
    "    \"\"\"\"\"\"\n",
    "    r = 6371\n",
    "    lat1, lon1 = latlon1\n",
    "    lat2, lon2 = latlon2\n",
    "    radlat1 = math.radians(lat1)\n",
    "    radlon1 = math.radians(lon1)\n",
    "    radlat2 = math.radians(lat2)\n",
    "    radlon2 = math.radians(lon2)\n",
    "    lat_dist = radlat2 - radlat1\n",
    "    lon_dist = radlon2 - radlon1\n",
    "    a=sin(lat_dist/2)**2+cos(radlat1)*cos(radlat2)*sin(lon_dist/2)**2\n",
    "    c=2*atan2(math.sqrt(a),math.sqrt(1-a))\n",
    "    d=r*c\n",
    "    print(f\"{d} km is the distance between the coordinates provided\") "
   ]
  },
  {
   "cell_type": "code",
   "execution_count": 7,
   "metadata": {},
   "outputs": [
    {
     "name": "stdout",
     "output_type": "stream",
     "text": [
      "533.677916923906 km is the distance between the coordinates provided\n"
     ]
    }
   ],
   "source": [
    "coord1=[51.5072, 0.1276]\n",
    "coord2=[55.9533, 3.1883]\n",
    "haversine_function(coord1,coord2)"
   ]
  },
  {
   "cell_type": "markdown",
   "metadata": {},
   "source": [
    "# Part 2\n",
    "## Question 1"
   ]
  },
  {
   "cell_type": "code",
   "execution_count": 17,
   "metadata": {},
   "outputs": [
    {
     "name": "stdout",
     "output_type": "stream",
     "text": [
      "5675 trees are either Quercus or Acer\n"
     ]
    }
   ],
   "source": [
    "import numpy as np\n",
    "import pandas as pd\n",
    "trees=pd.read_csv(\"data/portland_park_trees.csv\")\n",
    "q1=trees[trees.Genus.str.contains(\"Acer|Quercus\")]\n",
    "print(f\"{len(q1.index)} trees are either Quercus or Acer\")"
   ]
  },
  {
   "cell_type": "markdown",
   "metadata": {},
   "source": [
    "## Question 2"
   ]
  },
  {
   "cell_type": "code",
   "execution_count": 20,
   "metadata": {},
   "outputs": [
    {
     "name": "stdout",
     "output_type": "stream",
     "text": [
      "124 Quercus or Acer trees have a DBH of greater than 50 inches\n"
     ]
    }
   ],
   "source": [
    "q2=q1[q1.DBH.values>50]\n",
    "print(f\"{len(q2.index)} Quercus or Acer trees have a DBH of greater than 50 inches\")"
   ]
  },
  {
   "cell_type": "markdown",
   "metadata": {},
   "source": [
    "## Question 3"
   ]
  },
  {
   "cell_type": "code",
   "execution_count": 23,
   "metadata": {},
   "outputs": [
    {
     "name": "stdout",
     "output_type": "stream",
     "text": [
      "Quercus mean DBH: 23.56823839157492 inches\n",
      "Acer mean DBH: 18.419085331846066 inches\n",
      "Fraxinus mean DBH: 11.033609693877551 inches\n",
      "Quercus trees have the highest mean DBH\n"
     ]
    }
   ],
   "source": [
    "Quercus_mean_DBH=trees[trees.Genus.str.contains(\"Quercus\")].DBH.mean()\n",
    "Acer_mean_DBH=trees[trees.Genus.str.contains(\"Acer\")].DBH.mean()\n",
    "Fraxinus_mean_DBH=trees[trees.Genus.str.contains(\"Fraxinus\")].DBH.mean()\n",
    "print(f\"Quercus mean DBH: {Quercus_mean_DBH} inches\")\n",
    "print(f\"Acer mean DBH: {Acer_mean_DBH} inches\")\n",
    "print(f\"Fraxinus mean DBH: {Fraxinus_mean_DBH} inches\")\n",
    "print(\"Quercus trees have the highest mean DBH\")"
   ]
  },
  {
   "cell_type": "markdown",
   "metadata": {},
   "source": [
    "## Question 4"
   ]
  },
  {
   "cell_type": "code",
   "execution_count": 25,
   "metadata": {},
   "outputs": [
    {
     "name": "stdout",
     "output_type": "stream",
     "text": [
      "20 types of species in the Acer genus\n"
     ]
    }
   ],
   "source": [
    "q4=trees[trees.Genus.str.contains(\"Acer\")].Genus_spec.unique()\n",
    "print(f\"{len(q4)} types of species in the Acer genus\")"
   ]
  }
 ],
 "metadata": {
  "kernelspec": {
   "display_name": "lab2",
   "language": "python",
   "name": "python3"
  },
  "language_info": {
   "codemirror_mode": {
    "name": "ipython",
    "version": 3
   },
   "file_extension": ".py",
   "mimetype": "text/x-python",
   "name": "python",
   "nbconvert_exporter": "python",
   "pygments_lexer": "ipython3",
   "version": "3.12.0"
  }
 },
 "nbformat": 4,
 "nbformat_minor": 2
}
