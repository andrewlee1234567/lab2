{
 "cells": [
  {
   "cell_type": "code",
   "execution_count": 2,
   "metadata": {},
   "outputs": [],
   "source": [
    "import math"
   ]
  },
  {
   "cell_type": "markdown",
   "metadata": {},
   "source": [
    "# Task 1"
   ]
  },
  {
   "cell_type": "code",
   "execution_count": 6,
   "metadata": {},
   "outputs": [],
   "source": [
    "def div3(n):\n",
    "    \"\"\"tests whether a number is divisble by 3\"\"\"\n",
    "    test=n/3\n",
    "    testint=float(int(test))\n",
    "    print(f\"test: {test}\")\n",
    "    print(f\"testint: {testint}\")\n",
    "    if test==testint:\n",
    "        print(f\"{n} is divisible by 3\")\n",
    "    else:\n",
    "        print(f\"{n} is not divisible by 3\")"
   ]
  },
  {
   "cell_type": "code",
   "execution_count": 7,
   "metadata": {},
   "outputs": [
    {
     "name": "stdout",
     "output_type": "stream",
     "text": [
      "test: 2.0\n",
      "testint: 2.0\n",
      "6 is divisible by 3\n"
     ]
    }
   ],
   "source": [
    "div3(6)"
   ]
  },
  {
   "cell_type": "markdown",
   "metadata": {},
   "source": [
    "# Task 2"
   ]
  },
  {
   "cell_type": "code",
   "execution_count": 8,
   "metadata": {},
   "outputs": [],
   "source": [
    "def fruit_test(f):\n",
    "    \"\"\"tests whether a certain fruit is acceptable\"\"\"\n",
    "    fruits=[\"apple\", \"orange\", \"pear\", \"kiwi\",\"strawberry\"]\n",
    "    if f in fruits:\n",
    "        print(f\"{f} is an acceptable fruit\")\n",
    "    else:\n",
    "        print(f\"{f} is not an acceptable fruit\")\n"
   ]
  },
  {
   "cell_type": "code",
   "execution_count": 10,
   "metadata": {},
   "outputs": [
    {
     "name": "stdout",
     "output_type": "stream",
     "text": [
      "apple is an acceptable fruit\n",
      "banana is not an acceptable fruit\n"
     ]
    }
   ],
   "source": [
    "fruit_test(\"apple\")\n",
    "fruit_test(\"banana\")"
   ]
  },
  {
   "cell_type": "code",
   "execution_count": null,
   "metadata": {},
   "outputs": [],
   "source": []
  }
 ],
 "metadata": {
  "kernelspec": {
   "display_name": "lab2",
   "language": "python",
   "name": "python3"
  },
  "language_info": {
   "codemirror_mode": {
    "name": "ipython",
    "version": 3
   },
   "file_extension": ".py",
   "mimetype": "text/x-python",
   "name": "python",
   "nbconvert_exporter": "python",
   "pygments_lexer": "ipython3",
   "version": "3.12.0"
  }
 },
 "nbformat": 4,
 "nbformat_minor": 2
}
